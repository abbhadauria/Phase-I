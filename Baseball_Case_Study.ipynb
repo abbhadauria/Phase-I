{
  "nbformat": 4,
  "nbformat_minor": 0,
  "metadata": {
    "colab": {
      "provenance": []
    },
    "kernelspec": {
      "name": "python3",
      "display_name": "Python 3"
    },
    "language_info": {
      "name": "python"
    }
  },
  "cells": [
    {
      "cell_type": "code",
      "execution_count": 1,
      "metadata": {
        "id": "MpvOM4s9uCVR"
      },
      "outputs": [],
      "source": [
        "import numpy as np\n",
        "import pandas as pd\n",
        "import matplotlib.pyplot as plt\n",
        "%matplotlib inline\n",
        "import seaborn as sns\n",
        "\n",
        "\n",
        "pd.set_option('display.max_columns',5000)\n",
        "pd.set_option('display.max_rows',5000)"
      ]
    },
    {
      "cell_type": "code",
      "source": [
        "df = pd.read_csv('https://raw.githubusercontent.com/dsrscientist/Data-Science-ML-Capstone-Projects/master/baseball.csv')\n",
        "df.head()"
      ],
      "metadata": {
        "colab": {
          "base_uri": "https://localhost:8080/",
          "height": 206
        },
        "id": "2KrPXOMeiywx",
        "outputId": "dc1f12be-462e-42ea-f019-287c62a6fa5f"
      },
      "execution_count": 6,
      "outputs": [
        {
          "output_type": "execute_result",
          "data": {
            "text/plain": [
              "    W    R    AB     H   2B  3B   HR   BB    SO   SB   RA   ER   ERA  CG  SHO  \\\n",
              "0  95  724  5575  1497  300  42  139  383   973  104  641  601  3.73   2    8   \n",
              "1  83  696  5467  1349  277  44  156  439  1264   70  700  653  4.07   2   12   \n",
              "2  81  669  5439  1395  303  29  141  533  1157   86  640  584  3.67  11   10   \n",
              "3  76  622  5533  1381  260  27  136  404  1231   68  701  643  3.98   7    9   \n",
              "4  74  689  5605  1515  289  49  151  455  1259   83  803  746  4.64   7   12   \n",
              "\n",
              "   SV    E  \n",
              "0  56   88  \n",
              "1  45   86  \n",
              "2  38   79  \n",
              "3  37  101  \n",
              "4  35   86  "
            ],
            "text/html": [
              "\n",
              "  <div id=\"df-2fd38931-3ced-48b4-9e9d-e8c08cbceb47\">\n",
              "    <div class=\"colab-df-container\">\n",
              "      <div>\n",
              "<style scoped>\n",
              "    .dataframe tbody tr th:only-of-type {\n",
              "        vertical-align: middle;\n",
              "    }\n",
              "\n",
              "    .dataframe tbody tr th {\n",
              "        vertical-align: top;\n",
              "    }\n",
              "\n",
              "    .dataframe thead th {\n",
              "        text-align: right;\n",
              "    }\n",
              "</style>\n",
              "<table border=\"1\" class=\"dataframe\">\n",
              "  <thead>\n",
              "    <tr style=\"text-align: right;\">\n",
              "      <th></th>\n",
              "      <th>W</th>\n",
              "      <th>R</th>\n",
              "      <th>AB</th>\n",
              "      <th>H</th>\n",
              "      <th>2B</th>\n",
              "      <th>3B</th>\n",
              "      <th>HR</th>\n",
              "      <th>BB</th>\n",
              "      <th>SO</th>\n",
              "      <th>SB</th>\n",
              "      <th>RA</th>\n",
              "      <th>ER</th>\n",
              "      <th>ERA</th>\n",
              "      <th>CG</th>\n",
              "      <th>SHO</th>\n",
              "      <th>SV</th>\n",
              "      <th>E</th>\n",
              "    </tr>\n",
              "  </thead>\n",
              "  <tbody>\n",
              "    <tr>\n",
              "      <th>0</th>\n",
              "      <td>95</td>\n",
              "      <td>724</td>\n",
              "      <td>5575</td>\n",
              "      <td>1497</td>\n",
              "      <td>300</td>\n",
              "      <td>42</td>\n",
              "      <td>139</td>\n",
              "      <td>383</td>\n",
              "      <td>973</td>\n",
              "      <td>104</td>\n",
              "      <td>641</td>\n",
              "      <td>601</td>\n",
              "      <td>3.73</td>\n",
              "      <td>2</td>\n",
              "      <td>8</td>\n",
              "      <td>56</td>\n",
              "      <td>88</td>\n",
              "    </tr>\n",
              "    <tr>\n",
              "      <th>1</th>\n",
              "      <td>83</td>\n",
              "      <td>696</td>\n",
              "      <td>5467</td>\n",
              "      <td>1349</td>\n",
              "      <td>277</td>\n",
              "      <td>44</td>\n",
              "      <td>156</td>\n",
              "      <td>439</td>\n",
              "      <td>1264</td>\n",
              "      <td>70</td>\n",
              "      <td>700</td>\n",
              "      <td>653</td>\n",
              "      <td>4.07</td>\n",
              "      <td>2</td>\n",
              "      <td>12</td>\n",
              "      <td>45</td>\n",
              "      <td>86</td>\n",
              "    </tr>\n",
              "    <tr>\n",
              "      <th>2</th>\n",
              "      <td>81</td>\n",
              "      <td>669</td>\n",
              "      <td>5439</td>\n",
              "      <td>1395</td>\n",
              "      <td>303</td>\n",
              "      <td>29</td>\n",
              "      <td>141</td>\n",
              "      <td>533</td>\n",
              "      <td>1157</td>\n",
              "      <td>86</td>\n",
              "      <td>640</td>\n",
              "      <td>584</td>\n",
              "      <td>3.67</td>\n",
              "      <td>11</td>\n",
              "      <td>10</td>\n",
              "      <td>38</td>\n",
              "      <td>79</td>\n",
              "    </tr>\n",
              "    <tr>\n",
              "      <th>3</th>\n",
              "      <td>76</td>\n",
              "      <td>622</td>\n",
              "      <td>5533</td>\n",
              "      <td>1381</td>\n",
              "      <td>260</td>\n",
              "      <td>27</td>\n",
              "      <td>136</td>\n",
              "      <td>404</td>\n",
              "      <td>1231</td>\n",
              "      <td>68</td>\n",
              "      <td>701</td>\n",
              "      <td>643</td>\n",
              "      <td>3.98</td>\n",
              "      <td>7</td>\n",
              "      <td>9</td>\n",
              "      <td>37</td>\n",
              "      <td>101</td>\n",
              "    </tr>\n",
              "    <tr>\n",
              "      <th>4</th>\n",
              "      <td>74</td>\n",
              "      <td>689</td>\n",
              "      <td>5605</td>\n",
              "      <td>1515</td>\n",
              "      <td>289</td>\n",
              "      <td>49</td>\n",
              "      <td>151</td>\n",
              "      <td>455</td>\n",
              "      <td>1259</td>\n",
              "      <td>83</td>\n",
              "      <td>803</td>\n",
              "      <td>746</td>\n",
              "      <td>4.64</td>\n",
              "      <td>7</td>\n",
              "      <td>12</td>\n",
              "      <td>35</td>\n",
              "      <td>86</td>\n",
              "    </tr>\n",
              "  </tbody>\n",
              "</table>\n",
              "</div>\n",
              "      <button class=\"colab-df-convert\" onclick=\"convertToInteractive('df-2fd38931-3ced-48b4-9e9d-e8c08cbceb47')\"\n",
              "              title=\"Convert this dataframe to an interactive table.\"\n",
              "              style=\"display:none;\">\n",
              "        \n",
              "  <svg xmlns=\"http://www.w3.org/2000/svg\" height=\"24px\"viewBox=\"0 0 24 24\"\n",
              "       width=\"24px\">\n",
              "    <path d=\"M0 0h24v24H0V0z\" fill=\"none\"/>\n",
              "    <path d=\"M18.56 5.44l.94 2.06.94-2.06 2.06-.94-2.06-.94-.94-2.06-.94 2.06-2.06.94zm-11 1L8.5 8.5l.94-2.06 2.06-.94-2.06-.94L8.5 2.5l-.94 2.06-2.06.94zm10 10l.94 2.06.94-2.06 2.06-.94-2.06-.94-.94-2.06-.94 2.06-2.06.94z\"/><path d=\"M17.41 7.96l-1.37-1.37c-.4-.4-.92-.59-1.43-.59-.52 0-1.04.2-1.43.59L10.3 9.45l-7.72 7.72c-.78.78-.78 2.05 0 2.83L4 21.41c.39.39.9.59 1.41.59.51 0 1.02-.2 1.41-.59l7.78-7.78 2.81-2.81c.8-.78.8-2.07 0-2.86zM5.41 20L4 18.59l7.72-7.72 1.47 1.35L5.41 20z\"/>\n",
              "  </svg>\n",
              "      </button>\n",
              "      \n",
              "  <style>\n",
              "    .colab-df-container {\n",
              "      display:flex;\n",
              "      flex-wrap:wrap;\n",
              "      gap: 12px;\n",
              "    }\n",
              "\n",
              "    .colab-df-convert {\n",
              "      background-color: #E8F0FE;\n",
              "      border: none;\n",
              "      border-radius: 50%;\n",
              "      cursor: pointer;\n",
              "      display: none;\n",
              "      fill: #1967D2;\n",
              "      height: 32px;\n",
              "      padding: 0 0 0 0;\n",
              "      width: 32px;\n",
              "    }\n",
              "\n",
              "    .colab-df-convert:hover {\n",
              "      background-color: #E2EBFA;\n",
              "      box-shadow: 0px 1px 2px rgba(60, 64, 67, 0.3), 0px 1px 3px 1px rgba(60, 64, 67, 0.15);\n",
              "      fill: #174EA6;\n",
              "    }\n",
              "\n",
              "    [theme=dark] .colab-df-convert {\n",
              "      background-color: #3B4455;\n",
              "      fill: #D2E3FC;\n",
              "    }\n",
              "\n",
              "    [theme=dark] .colab-df-convert:hover {\n",
              "      background-color: #434B5C;\n",
              "      box-shadow: 0px 1px 3px 1px rgba(0, 0, 0, 0.15);\n",
              "      filter: drop-shadow(0px 1px 2px rgba(0, 0, 0, 0.3));\n",
              "      fill: #FFFFFF;\n",
              "    }\n",
              "  </style>\n",
              "\n",
              "      <script>\n",
              "        const buttonEl =\n",
              "          document.querySelector('#df-2fd38931-3ced-48b4-9e9d-e8c08cbceb47 button.colab-df-convert');\n",
              "        buttonEl.style.display =\n",
              "          google.colab.kernel.accessAllowed ? 'block' : 'none';\n",
              "\n",
              "        async function convertToInteractive(key) {\n",
              "          const element = document.querySelector('#df-2fd38931-3ced-48b4-9e9d-e8c08cbceb47');\n",
              "          const dataTable =\n",
              "            await google.colab.kernel.invokeFunction('convertToInteractive',\n",
              "                                                     [key], {});\n",
              "          if (!dataTable) return;\n",
              "\n",
              "          const docLinkHtml = 'Like what you see? Visit the ' +\n",
              "            '<a target=\"_blank\" href=https://colab.research.google.com/notebooks/data_table.ipynb>data table notebook</a>'\n",
              "            + ' to learn more about interactive tables.';\n",
              "          element.innerHTML = '';\n",
              "          dataTable['output_type'] = 'display_data';\n",
              "          await google.colab.output.renderOutput(dataTable, element);\n",
              "          const docLink = document.createElement('div');\n",
              "          docLink.innerHTML = docLinkHtml;\n",
              "          element.appendChild(docLink);\n",
              "        }\n",
              "      </script>\n",
              "    </div>\n",
              "  </div>\n",
              "  "
            ]
          },
          "metadata": {},
          "execution_count": 6
        }
      ]
    },
    {
      "cell_type": "code",
      "source": [
        "df.shape"
      ],
      "metadata": {
        "colab": {
          "base_uri": "https://localhost:8080/"
        },
        "id": "eBa3PkuYpXGH",
        "outputId": "334f2166-ce00-442c-9340-cdb062f52d2f"
      },
      "execution_count": 3,
      "outputs": [
        {
          "output_type": "execute_result",
          "data": {
            "text/plain": [
              "(30, 17)"
            ]
          },
          "metadata": {},
          "execution_count": 3
        }
      ]
    },
    {
      "cell_type": "code",
      "source": [
        "sns.heatmap(df.isnull().sum().to_frame())\n"
      ],
      "metadata": {
        "colab": {
          "base_uri": "https://localhost:8080/",
          "height": 452
        },
        "id": "2NfxnnDIp6Vy",
        "outputId": "6fe4247a-7a92-4fc4-8515-98d44dc66744"
      },
      "execution_count": 4,
      "outputs": [
        {
          "output_type": "execute_result",
          "data": {
            "text/plain": [
              "<Axes: >"
            ]
          },
          "metadata": {},
          "execution_count": 4
        },
        {
          "output_type": "display_data",
          "data": {
            "text/plain": [
              "<Figure size 640x480 with 2 Axes>"
            ],
            "image/png": "[encoded data removed]"
          },
          "metadata": {}
        }
      ]
    },
    {
      "cell_type": "code",
      "source": [
        "df.info()\n"
      ],
      "metadata": {
        "colab": {
          "base_uri": "https://localhost:8080/"
        },
        "id": "mxkkJ22DfIbT",
        "outputId": "3a46c21f-2426-4a17-fb6d-ea804d52d7c3"
      },
      "execution_count": 5,
      "outputs": [
        {
          "output_type": "stream",
          "name": "stdout",
          "text": [
            "<class 'pandas.core.frame.DataFrame'>\n",
            "RangeIndex: 30 entries, 0 to 29\n",
            "Data columns (total 17 columns):\n",
            " #   Column  Non-Null Count  Dtype  \n",
            "---  ------  --------------  -----  \n",
            " 0   W       30 non-null     int64  \n",
            " 1   R       30 non-null     int64  \n",
            " 2   AB      30 non-null     int64  \n",
            " 3   H       30 non-null     int64  \n",
            " 4   2B      30 non-null     int64  \n",
            " 5   3B      30 non-null     int64  \n",
            " 6   HR      30 non-null     int64  \n",
            " 7   BB      30 non-null     int64  \n",
            " 8   SO      30 non-null     int64  \n",
            " 9   SB      30 non-null     int64  \n",
            " 10  RA      30 non-null     int64  \n",
            " 11  ER      30 non-null     int64  \n",
            " 12  ERA     30 non-null     float64\n",
            " 13  CG      30 non-null     int64  \n",
            " 14  SHO     30 non-null     int64  \n",
            " 15  SV      30 non-null     int64  \n",
            " 16  E       30 non-null     int64  \n",
            "dtypes: float64(1), int64(16)\n",
            "memory usage: 4.1 KB\n"
          ]
        }
      ]
    },
    {
      "cell_type": "markdown",
      "source": [
        "Visualization"
      ],
      "metadata": {
        "id": "9YjfMU31fjE-"
      }
    },
    {
      "cell_type": "code",
      "source": [
        "def pplot(df,i):\n",
        "  plt.figure(gifsize=(20,5))\n",
        "  plt.subplot(1,3,1)\n",
        "  sns.histplot(x='i', y='W',data=df)\n",
        "  plt.subplot(1,3,3)\n",
        "  sns.boxplot(y=i,data=df)\n",
        "  plt.show()"
      ],
      "metadata": {
        "id": "qVNvyusV6sav"
      },
      "execution_count": 14,
      "outputs": []
    },
    {
      "cell_type": "code",
      "source": [
        "  plt.show()"
      ],
      "metadata": {
        "id": "xOuoCWH06sXG"
      },
      "execution_count": 15,
      "outputs": []
    },
    {
      "cell_type": "code",
      "source": [
        "z=np.abs(stat.zscore(df_z[num]))\n",
        "a=int(df_z.size)\n",
        "df_z = df_z[(z>3).all(axis=1)]"
      ],
      "metadata": {
        "id": "cLt4srFP91UI"
      },
      "execution_count": null,
      "outputs": []
    },
    {
      "cell_type": "markdown",
      "source": [
        "Upper IQR=1.5*(Q2-Q1)+Q2\n",
        "\n",
        "Lower IQR=Q1–1.5*(Q2-Q1)\n",
        "\n",
        "Remove any data outside upper IQR and lower IQR"
      ],
      "metadata": {
        "id": "K503R-XZ8TQU"
      }
    },
    {
      "cell_type": "code",
      "source": [
        "Q1 = np.percentile(df_boston['DIS'], 25,\n",
        "interpolation = 'midpoint')\n",
        "Q3 = np.percentile(df_boston['DIS'], 75,\n",
        "interpolation = 'midpoint')\n",
        "\n",
        "IQR = Q3 — Q1\n",
        "\n",
        "print('Old Shape: ', df_boston.shape)\n",
        "# Upper bound\n",
        "upper = np.where(df_boston['DIS'] >= (Q3+1.5*IQR))\n",
        "# Lower bound\n",
        "lower = np.where(df_boston['DIS'] <= (Q1–1.5*IQR))\n",
        "\n",
        "'‘’’' Removing the Outliers '‘’’'\n",
        "\n",
        "df_boston.drop(upper[0], inplace = True)\n",
        "df_boston.drop(lower[0], inplace = True)"
      ],
      "metadata": {
        "id": "MF2ZKsRJ963j"
      },
      "execution_count": null,
      "outputs": []
    },
    {
      "cell_type": "markdown",
      "source": [
        "Data Reduction — This dataset has continuous independent value and dependent value. There are many technics for Data reduction\n",
        "\n"
      ],
      "metadata": {
        "id": "jXKxiUTB-es1"
      }
    },
    {
      "cell_type": "code",
      "source": [
        "sns.heatmap(pt1.corr(),annot=True,cmap='PiYG')\n"
      ],
      "metadata": {
        "id": "hAl3WwZH98PA"
      },
      "execution_count": null,
      "outputs": []
    },
    {
      "cell_type": "code",
      "source": [
        "from sklearn.feature_selection import SelectKBest\n",
        "from sklearn.feature_selection import f_classif\n",
        "s = SelectKBest(f_classif, k=15)\n",
        "s.fit(x,y)\n",
        "anova=pd.DataFrame([s.scores_,s.pvalues_],columns=x.columns).T.sort_values(by=0)"
      ],
      "metadata": {
        "id": "WphYz87X-Paw"
      },
      "execution_count": null,
      "outputs": []
    },
    {
      "cell_type": "markdown",
      "source": [
        " R-squared (R2):"
      ],
      "metadata": {
        "id": "oV40SHe7-pEU"
      }
    },
    {
      "cell_type": "code",
      "source": [
        "cv_results = cross_validate(lr(normalize=True), x, y, cv=3,scoring='r2')\n",
        "lr_reg=cv_results['test_score'].mean()\n",
        "r2=[]\n",
        "r2.append(lr_reg)\n",
        "j=1\n",
        "k=1\n",
        "least_r21=-10\n",
        "while j==1:\n",
        "  for i in x.columns:\n",
        "    demo_x=x.drop(i,axis=1)\n",
        "    cv_results = cross_validate(lr(normalize=True), demo_x, y, cv=3,scoring='r2')\n",
        "    lr_reg1=cv_results['test_score'].mean()\n",
        "    if lr_reg1>lr_reg:\n",
        "      least=i\n",
        "      least_r2=lr_reg1\n",
        "      lr_reg=lr_reg1\n",
        "      if least_r21<least_r2:\n",
        "        print(str(least) + 'is having r2 score of' + str(least_r2))\n",
        "        least_r21=least_r2\n",
        "        x.drop(least,axis=1,inplace=True)\n",
        "        r2.append(lr_reg)\n",
        "        k=k+1\n",
        "      else:\n",
        "        j=0\n",
        "        plt.scatter(range(k),r2)\n"
      ],
      "metadata": {
        "id": "nt0bcpD_ASOl"
      },
      "execution_count": null,
      "outputs": []
    },
    {
      "cell_type": "markdown",
      "source": [
        "Data Reduction:- removing redundant data.\n"
      ],
      "metadata": {
        "id": "F7D89hmyAXfs"
      }
    },
    {
      "cell_type": "code",
      "source": [
        "def pipeline_viz(df):\n",
        "  num,cat=num_cat(df)\n",
        "num_plot(df,num)\n",
        "df[num]=pow_tran(df,num)\n",
        "df[num]=stan_sc(df,num)\n",
        "df[num]=z_outlier(df,num)\n",
        "df_new=dimention_reduction(df,num)\n",
        "return (df_new)\n"
      ],
      "metadata": {
        "id": "_sMsy0nWAdn5"
      },
      "execution_count": null,
      "outputs": []
    },
    {
      "cell_type": "code",
      "source": [
        "def num_cat(df):\n",
        "num=[]\n",
        "cat=[]\n",
        "count=df.nunique()\n",
        "for i in df.columns:\n",
        "if count[i]>5:\n",
        "num.append(i)\n",
        "else:\n",
        "cat.append(i)\n",
        "return(num,cat)\n",
        "from sklearn.preprocessing import power_transform as PT\n",
        "def pow_tran(df,num):\n",
        "pt=pd.DataFrame()\n",
        "for i in num:\n",
        "if df[i].min()<=0:\n",
        "pt1=(df[i]-df[i].min()+0.0001)\n",
        "else:\n",
        "pt1=df[i]\n",
        "pt=pd.concat([pt,pd.DataFrame(pt1)],axis=1)\n",
        "pt1=PT(pt)\n",
        "pt1=pd.DataFrame(pt1,columns=num)\n",
        "return(pt1)\n",
        "def num_plot(df,num):\n",
        "for i in num:\n",
        "plt.figure(figsize=(20,5))\n",
        "plt.subplot(1,3,1)\n",
        "sns.histplot(x=i,data=df,kde=True,hue='Churn')\n",
        "plt.subplot(1,3,2)\n",
        "sns.regplot(x=i,y='W'data=df,kde=True,hue='Churn')\n",
        "plt.subplot(1,3,3)\n",
        "sns.boxplot(y=i,data=df)\n",
        "plt.show()\n",
        "def z_outlier(df,num):\n",
        "df_z=df[num]\n",
        "z=np.abs(stat.zscore(df_z))\n",
        "a=int(df_z.size)\n",
        "df_z = df_z[(z>3).all(axis=1)]\n",
        "print('Percent of data retained = '+ str(int(df_z.size)/a))\n",
        "return(df_z)\n",
        "def stan_sc(df,num):\n",
        "ss=StandardScaler()\n",
        "x=df[num].to_numpy()\n",
        "x1=pd.DataFrame(ss.fit_transform(x),columns=num)\n",
        "return(x1)"
      ],
      "metadata": {
        "id": "HhV5Gy4O0coE"
      },
      "execution_count": null,
      "outputs": []
    },
    {
      "cell_type": "markdown",
      "source": [
        "Building Machine Learning Models.\n",
        "\n"
      ],
      "metadata": {
        "id": "a9Su2xWO1J6n"
      }
    },
    {
      "cell_type": "markdown",
      "source": [
        "Machine learning is as good as preprocessing. Now let’s take a look into some algorithms of machine learning for classification.\n",
        "\n",
        "Linear regression — it is an algorithm that minimizes the loss function i.e summation of square error.\n",
        "Decision Tree — It is a tree-based algorithm that uses the gini or entropy method to generate the tree.\n",
        "Random forest- It is a multiple trees algorithm that uses bootstrap sampling and bagging for classification.\n",
        "Extreme Gradient boosting — it is a boosting algorithm that uses a multi-decision tree.\n",
        "Support vector machine- it constructs Hyperplane and marginal plane and distance between them is optimized.\n",
        "There are multiple machine learning algorithms to select from. Based on the quite best method to select the algorithm having the minimum difference between predicted score and cross-validation score."
      ],
      "metadata": {
        "id": "2IrYpXnU1Oht"
      }
    },
    {
      "cell_type": "code",
      "source": [
        "def clf(model,x,y,x_test,y_test):\n",
        "lr = model.fit(x, y)\n",
        "y_pred=lr.predict(x_test)\n",
        "print(confusion_matrix(y_test,y_pred))\n",
        "print(accuracy_score(y_test,y_pred))\n",
        "print(classification_report(y_test,y_pred))\n",
        "lr_acc=f1_score(y_test,y_pred)\n",
        "cv_results = cross_validate(model, x, y, cv=10)\n",
        "lr_score=cv_results['test_score'].mean()\n",
        "return(lr_acc,lr_score)\n",
        "lr_acc,lr_score=clf(LinearRegression(),x_train_scaler,y_train,x_test_scaler,y_test)\n",
        "rfc_acc,rfc_score=clf(RFR(),x_train_scaler,y_train,x_test_scaler,y_test)\n",
        "xgc_acc,xgc_score=clf(XBR(),x_train_scaler,y_train,x_test_scaler,y_test)\n",
        "etc_acc,etc_score=clf(ETR(),x_train_scaler,y_train,x_test_scaler,y_test)\n",
        "svc_acc,svc_score=clf(SVC(),x_train_scaler,y_train,x_test_scaler,y_test)\n",
        "score=[lr_score,rfc_score,xgc_score,etc_score,svc_score]\n",
        "error=[lr_acc,rfc_acc,xgc_acc,etc_acc,svc_acc]\n",
        "name=['LR','RFR','XGR','ETR','SVR']\n",
        "diff=[]\n",
        "for i in range(5):\n",
        "diff.append(score[i]-error[i])\n",
        "pd.DataFrame([name,score,error,diff]).T"
      ],
      "metadata": {
        "id": "SQ4QFfZl1BCi"
      },
      "execution_count": null,
      "outputs": []
    },
    {
      "cell_type": "code",
      "source": [
        "from sklearn.model_selection import GridSearchCV\n",
        "ridge_params = {'alpha':[1,2,3,4,5,6,7,8,9,10]}\n",
        "xg_grid = GridSearchCV(Ridge(), ridge_params, cv=3)\n",
        "xg_grid.fit(x_train_scaler, y_train)\n",
        "print('Best score:', xg_grid.best_score_)\n",
        "print('Best score:', xg_grid.best_params_)\n",
        "print('Best score:', xg_grid.best_estimator_)"
      ],
      "metadata": {
        "id": "42f-EwL71jv7"
      },
      "execution_count": null,
      "outputs": []
    },
    {
      "cell_type": "markdown",
      "source": [
        "Concluding Remarks.\n",
        "\n"
      ],
      "metadata": {
        "id": "jg6LkGby11OY"
      }
    },
    {
      "cell_type": "markdown",
      "source": [
        "As discussed in EDA and storytelling the randomness of the dataset should be reduced by reducing the number of variables. Which was done by R-square dimension reduction.\n",
        "\n",
        "The root means square is 0.08 and the R-square value is 91.2."
      ],
      "metadata": {
        "id": "6ea10cTD19pY"
      }
    }
  ]
}